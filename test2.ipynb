{
 "cells": [
  {
   "cell_type": "code",
   "execution_count": 29,
   "metadata": {},
   "outputs": [],
   "source": [
    "import numpy as np\n",
    "import pandas as pd\n",
    "from tqdm import tqdm"
   ]
  },
  {
   "cell_type": "code",
   "execution_count": 2,
   "metadata": {},
   "outputs": [],
   "source": [
    "cpn_csv = pd.read_csv(filepath_or_buffer=\"CPNEE.csv\")"
   ]
  },
  {
   "cell_type": "code",
   "execution_count": 3,
   "metadata": {},
   "outputs": [
    {
     "data": {
      "text/plain": [
       "array(['การประเมินผลงาน ', 'การเรียนรู้พัฒนาและโอกาสก้าวหน้าในงาน',\n",
       "       'ความร่วมมือในการทำงาน ', 'ความสมดุลระหว่างงานและชีวิตส่วนตัว ',\n",
       "       'ค่าตอบแทนและสวัสดิการ', 'ชื่อเสียงและความมั่นคงของบริษัท',\n",
       "       'ทรัพยากรและเครื่องมือในการทำงาน ', 'ลักษณะงานที่ทำ ',\n",
       "       'หัวหน้างานโดยตรง หรือ ผู้บริหารระดับสูง', 'อื่น ๆ '], dtype=object)"
      ]
     },
     "execution_count": 3,
     "metadata": {},
     "output_type": "execute_result"
    }
   ],
   "source": [
    "cpn_csv.Label.unique()"
   ]
  },
  {
   "cell_type": "code",
   "execution_count": 4,
   "metadata": {},
   "outputs": [
    {
     "data": {
      "text/plain": [
       "array(['การประเมินผลงาน ', 'การเรียนรู้พัฒนาและโอกาสก้าวหน้าในงาน',\n",
       "       'ความร่วมมือในการทำงาน ', 'ความสมดุลระหว่างงานและชีวิตส่วนตัว ',\n",
       "       'ค่าตอบแทนและสวัสดิการ', 'ชื่อเสียงและความมั่นคงของบริษัท',\n",
       "       'ทรัพยากรและเครื่องมือในการทำงาน ', 'ลักษณะงานที่ทำ ',\n",
       "       'หัวหน้างานโดยตรง หรือ ผู้บริหารระดับสูง', 'อื่น ๆ '], dtype=object)"
      ]
     },
     "execution_count": 4,
     "metadata": {},
     "output_type": "execute_result"
    }
   ],
   "source": [
    "cpn_csv.Label.unique()"
   ]
  },
  {
   "cell_type": "code",
   "execution_count": 5,
   "metadata": {},
   "outputs": [
    {
     "data": {
      "text/plain": [
       "Label\n",
       "ค่าตอบแทนและสวัสดิการ                      1494\n",
       "ชื่อเสียงและความมั่นคงของบริษัท             887\n",
       "การเรียนรู้พัฒนาและโอกาสก้าวหน้าในงาน       580\n",
       "ความร่วมมือในการทำงาน                       462\n",
       "หัวหน้างานโดยตรง หรือ ผู้บริหารระดับสูง     353\n",
       "ทรัพยากรและเครื่องมือในการทำงาน             323\n",
       "ความสมดุลระหว่างงานและชีวิตส่วนตัว          282\n",
       "ลักษณะงานที่ทำ                              212\n",
       "อื่น ๆ                                      209\n",
       "การประเมินผลงาน                             192\n",
       "Name: count, dtype: int64"
      ]
     },
     "execution_count": 5,
     "metadata": {},
     "output_type": "execute_result"
    }
   ],
   "source": [
    "cpn_csv.Label.value_counts()"
   ]
  },
  {
   "cell_type": "code",
   "execution_count": 6,
   "metadata": {},
   "outputs": [],
   "source": [
    "topic_sample = 100\n",
    "sentiment_sample = topic_sample // 2\n",
    "selected_topic = ['การเรียนรู้พัฒนาและโอกาสก้าวหน้าในงาน', 'ค่าตอบแทนและสวัสดิการ', 'หัวหน้างานโดยตรง หรือ ผู้บริหารระดับสูง', 'ความร่วมมือในการทำงาน ']"
   ]
  },
  {
   "cell_type": "code",
   "execution_count": 7,
   "metadata": {},
   "outputs": [
    {
     "name": "stdout",
     "output_type": "stream",
     "text": [
      "การเรียนรู้พัฒนาและโอกาสก้าวหน้าในงาน Positive 273\n",
      "การเรียนรู้พัฒนาและโอกาสก้าวหน้าในงาน Negative 307\n",
      "ค่าตอบแทนและสวัสดิการ Positive 843\n",
      "ค่าตอบแทนและสวัสดิการ Negative 651\n",
      "หัวหน้างานโดยตรง หรือ ผู้บริหารระดับสูง Positive 135\n",
      "หัวหน้างานโดยตรง หรือ ผู้บริหารระดับสูง Negative 218\n",
      "ความร่วมมือในการทำงาน  Positive 141\n",
      "ความร่วมมือในการทำงาน  Negative 321\n"
     ]
    }
   ],
   "source": [
    "all_selected_index = []\n",
    "for topic in selected_topic:\n",
    "    for sent in cpn_csv.Sentiment.unique():\n",
    "        new_selected_df = cpn_csv[(cpn_csv.Label == topic) & (cpn_csv.Sentiment == sent)]\n",
    "        print(topic, sent, len(new_selected_df))\n",
    "        np.random.seed(42)\n",
    "        selected_index = np.random.choice(new_selected_df.index, size= topic_sample, replace=False)\n",
    "        # print(selected_index)\n",
    "        all_selected_index.extend(selected_index)\n",
    "        "
   ]
  },
  {
   "cell_type": "code",
   "execution_count": 8,
   "metadata": {},
   "outputs": [],
   "source": [
    "assert len(all_selected_index) == 800"
   ]
  },
  {
   "cell_type": "code",
   "execution_count": 20,
   "metadata": {},
   "outputs": [],
   "source": [
    "map_dict = {'การเรียนรู้พัฒนาและโอกาสก้าวหน้าในงาน': 'Career Development and Growth',\n",
    "            'ค่าตอบแทนและสวัสดิการ': 'Compensation and Benefits',\n",
    "            'หัวหน้างานโดยตรง หรือ ผู้บริหารระดับสูง' : \"Direct Supervisor or Top Management\",\n",
    "            'ความร่วมมือในการทำงาน ': \"Collaboration\"}"
   ]
  },
  {
   "cell_type": "code",
   "execution_count": 22,
   "metadata": {},
   "outputs": [
    {
     "name": "stderr",
     "output_type": "stream",
     "text": [
      "/var/folders/tl/rdcj6pp130g_pdpr6thc58qr0000gn/T/ipykernel_8622/2045684238.py:2: SettingWithCopyWarning: \n",
      "A value is trying to be set on a copy of a slice from a DataFrame.\n",
      "Try using .loc[row_indexer,col_indexer] = value instead\n",
      "\n",
      "See the caveats in the documentation: https://pandas.pydata.org/pandas-docs/stable/user_guide/indexing.html#returning-a-view-versus-a-copy\n",
      "  new_df['Label'] = new_df['Label'].map(map_dict)\n"
     ]
    },
    {
     "data": {
      "text/html": [
       "<div>\n",
       "<style scoped>\n",
       "    .dataframe tbody tr th:only-of-type {\n",
       "        vertical-align: middle;\n",
       "    }\n",
       "\n",
       "    .dataframe tbody tr th {\n",
       "        vertical-align: top;\n",
       "    }\n",
       "\n",
       "    .dataframe thead th {\n",
       "        text-align: right;\n",
       "    }\n",
       "</style>\n",
       "<table border=\"1\" class=\"dataframe\">\n",
       "  <thead>\n",
       "    <tr style=\"text-align: right;\">\n",
       "      <th></th>\n",
       "      <th>Question</th>\n",
       "      <th>RawComment</th>\n",
       "      <th>OriginalLabel</th>\n",
       "      <th>Label</th>\n",
       "      <th>Sentiment</th>\n",
       "      <th>cleanComment</th>\n",
       "    </tr>\n",
       "  </thead>\n",
       "  <tbody>\n",
       "    <tr>\n",
       "      <th>222</th>\n",
       "      <td>What do you like most about working in this or...</td>\n",
       "      <td>การเรียนรู้และพัฒนา | บริษัทมักมีคอร์สการเรียน...</td>\n",
       "      <td>การเรียนรู้และพัฒนา</td>\n",
       "      <td>Career Development and Growth</td>\n",
       "      <td>Positive</td>\n",
       "      <td>บริษัทมักมีคอร์สการเรียนรู้ต่างๆมาให้เราได้พัฒ...</td>\n",
       "    </tr>\n",
       "    <tr>\n",
       "      <th>309</th>\n",
       "      <td>What do you like most about working in this or...</td>\n",
       "      <td>การเรียนรู้และพัฒนา | บริษัทสนับสนุนการเรียนรู...</td>\n",
       "      <td>การเรียนรู้และพัฒนา</td>\n",
       "      <td>Career Development and Growth</td>\n",
       "      <td>Positive</td>\n",
       "      <td>บริษัทสนับสนุนการเรียนรู้และพัฒนาอย่างจริงจัง ...</td>\n",
       "    </tr>\n",
       "    <tr>\n",
       "      <th>271</th>\n",
       "      <td>What do you like most about working in this or...</td>\n",
       "      <td>การเรียนรู้และพัฒนา | มีกิจกรรมและมีการอบรมให้...</td>\n",
       "      <td>การเรียนรู้และพัฒนา</td>\n",
       "      <td>Career Development and Growth</td>\n",
       "      <td>Positive</td>\n",
       "      <td>มีกิจกรรมและมีการอบรมให้พนักงานมีความรู้ในสายง...</td>\n",
       "    </tr>\n",
       "    <tr>\n",
       "      <th>496</th>\n",
       "      <td>What do you like most about working in this or...</td>\n",
       "      <td>โอกาสก้าวหน้าในงาน | บริษัทมีการขายกิจการอยู่ท...</td>\n",
       "      <td>โอกาสก้าวหน้าในงาน</td>\n",
       "      <td>Career Development and Growth</td>\n",
       "      <td>Positive</td>\n",
       "      <td>บริษัทมีการขายกิจการอยู่ทุกปี ทำให้มีการเข้าไป...</td>\n",
       "    </tr>\n",
       "    <tr>\n",
       "      <th>497</th>\n",
       "      <td>What do you like most about working in this or...</td>\n",
       "      <td>โอกาสก้าวหน้าในงาน | สามารถ​เติบโตในสายงานได้โ...</td>\n",
       "      <td>โอกาสก้าวหน้าในงาน</td>\n",
       "      <td>Career Development and Growth</td>\n",
       "      <td>Positive</td>\n",
       "      <td>สามารถ​เติบโตในสายงานได้โดยดูที่ผลงาน​และประเม...</td>\n",
       "    </tr>\n",
       "  </tbody>\n",
       "</table>\n",
       "</div>"
      ],
      "text/plain": [
       "                                              Question  \\\n",
       "222  What do you like most about working in this or...   \n",
       "309  What do you like most about working in this or...   \n",
       "271  What do you like most about working in this or...   \n",
       "496  What do you like most about working in this or...   \n",
       "497  What do you like most about working in this or...   \n",
       "\n",
       "                                            RawComment         OriginalLabel  \\\n",
       "222  การเรียนรู้และพัฒนา | บริษัทมักมีคอร์สการเรียน...  การเรียนรู้และพัฒนา    \n",
       "309  การเรียนรู้และพัฒนา | บริษัทสนับสนุนการเรียนรู...  การเรียนรู้และพัฒนา    \n",
       "271  การเรียนรู้และพัฒนา | มีกิจกรรมและมีการอบรมให้...  การเรียนรู้และพัฒนา    \n",
       "496  โอกาสก้าวหน้าในงาน | บริษัทมีการขายกิจการอยู่ท...   โอกาสก้าวหน้าในงาน    \n",
       "497  โอกาสก้าวหน้าในงาน | สามารถ​เติบโตในสายงานได้โ...   โอกาสก้าวหน้าในงาน    \n",
       "\n",
       "                             Label Sentiment  \\\n",
       "222  Career Development and Growth  Positive   \n",
       "309  Career Development and Growth  Positive   \n",
       "271  Career Development and Growth  Positive   \n",
       "496  Career Development and Growth  Positive   \n",
       "497  Career Development and Growth  Positive   \n",
       "\n",
       "                                          cleanComment  \n",
       "222  บริษัทมักมีคอร์สการเรียนรู้ต่างๆมาให้เราได้พัฒ...  \n",
       "309  บริษัทสนับสนุนการเรียนรู้และพัฒนาอย่างจริงจัง ...  \n",
       "271  มีกิจกรรมและมีการอบรมให้พนักงานมีความรู้ในสายง...  \n",
       "496  บริษัทมีการขายกิจการอยู่ทุกปี ทำให้มีการเข้าไป...  \n",
       "497  สามารถ​เติบโตในสายงานได้โดยดูที่ผลงาน​และประเม...  "
      ]
     },
     "execution_count": 22,
     "metadata": {},
     "output_type": "execute_result"
    }
   ],
   "source": [
    "new_df = cpn_csv.iloc[all_selected_index]\n",
    "new_df['Label'] = new_df['Label'].map(map_dict)\n",
    "new_df.head()"
   ]
  },
  {
   "cell_type": "code",
   "execution_count": 23,
   "metadata": {},
   "outputs": [],
   "source": [
    "new_df.to_csv('CPNEE-new.csv')"
   ]
  },
  {
   "attachments": {},
   "cell_type": "markdown",
   "metadata": {},
   "source": [
    "## translate function"
   ]
  },
  {
   "cell_type": "code",
   "execution_count": 24,
   "metadata": {},
   "outputs": [],
   "source": [
    "from deep_translator import GoogleTranslator"
   ]
  },
  {
   "cell_type": "code",
   "execution_count": 56,
   "metadata": {},
   "outputs": [],
   "source": [
    "def translate_to_eng(text):\n",
    "    if pd.isna(text):\n",
    "        translated = 'Nothing'\n",
    "    else:\n",
    "        translated = GoogleTranslator(source='auto', target='en').translate(text)\n",
    "    \n",
    "    return translated\n",
    "\n",
    "def translate_csv(csv, batch_size):\n",
    "    print(len(csv))\n",
    "    batch_size = batch_size\n",
    "    batch_number = len(csv) // batch_size\n",
    "    print(batch_number)\n",
    "\n",
    "    start_idx = np.arange(0, len(csv), 100)\n",
    "    end_idx = start_idx + 100\n",
    "    end_idx[-1] = len(csv)\n",
    "    print(len(start_idx))\n",
    "    print(len(end_idx))\n",
    "    \n",
    "    assert len(start_idx) == len(end_idx)\n",
    "    translated_document = []\n",
    "    for i in tqdm(range(len(start_idx))):\n",
    "        print(start_idx[i], end_idx[i])\n",
    "        transladed = np.vectorize(translate_to_eng)(csv.cleanComment.iloc[start_idx[i]: end_idx[i]])\n",
    "        translated_document.extend(transladed)\n",
    "        \n",
    "    return translated_document"
   ]
  },
  {
   "cell_type": "code",
   "execution_count": 59,
   "metadata": {},
   "outputs": [
    {
     "data": {
      "text/plain": [
       "array('Nothing', dtype='<U7')"
      ]
     },
     "execution_count": 59,
     "metadata": {},
     "output_type": "execute_result"
    }
   ],
   "source": [
    "np.vectorize(translate_to_eng)(pd.NA)"
   ]
  },
  {
   "cell_type": "code",
   "execution_count": 60,
   "metadata": {},
   "outputs": [
    {
     "name": "stdout",
     "output_type": "stream",
     "text": [
      "800\n",
      "16\n",
      "8\n",
      "8\n"
     ]
    },
    {
     "name": "stderr",
     "output_type": "stream",
     "text": [
      "  0%|          | 0/8 [00:00<?, ?it/s]"
     ]
    },
    {
     "name": "stdout",
     "output_type": "stream",
     "text": [
      "0 100\n"
     ]
    },
    {
     "name": "stderr",
     "output_type": "stream",
     "text": [
      " 12%|█▎        | 1/8 [00:49<05:45, 49.37s/it]"
     ]
    },
    {
     "name": "stdout",
     "output_type": "stream",
     "text": [
      "100 200\n"
     ]
    },
    {
     "name": "stderr",
     "output_type": "stream",
     "text": [
      " 25%|██▌       | 2/8 [01:36<04:47, 47.98s/it]"
     ]
    },
    {
     "name": "stdout",
     "output_type": "stream",
     "text": [
      "200 300\n"
     ]
    },
    {
     "name": "stderr",
     "output_type": "stream",
     "text": [
      " 38%|███▊      | 3/8 [02:38<04:33, 54.65s/it]"
     ]
    },
    {
     "name": "stdout",
     "output_type": "stream",
     "text": [
      "300 400\n"
     ]
    },
    {
     "name": "stderr",
     "output_type": "stream",
     "text": [
      " 50%|█████     | 4/8 [03:59<04:18, 64.73s/it]"
     ]
    },
    {
     "name": "stdout",
     "output_type": "stream",
     "text": [
      "400 500\n"
     ]
    },
    {
     "name": "stderr",
     "output_type": "stream",
     "text": [
      " 62%|██████▎   | 5/8 [05:20<03:31, 70.60s/it]"
     ]
    },
    {
     "name": "stdout",
     "output_type": "stream",
     "text": [
      "500 600\n"
     ]
    },
    {
     "name": "stderr",
     "output_type": "stream",
     "text": [
      " 75%|███████▌  | 6/8 [06:45<02:31, 75.68s/it]"
     ]
    },
    {
     "name": "stdout",
     "output_type": "stream",
     "text": [
      "600 700\n"
     ]
    },
    {
     "name": "stderr",
     "output_type": "stream",
     "text": [
      " 88%|████████▊ | 7/8 [07:47<01:11, 71.18s/it]"
     ]
    },
    {
     "name": "stdout",
     "output_type": "stream",
     "text": [
      "700 800\n"
     ]
    },
    {
     "name": "stderr",
     "output_type": "stream",
     "text": [
      "100%|██████████| 8/8 [09:11<00:00, 69.00s/it]\n"
     ]
    }
   ],
   "source": [
    "translated_document = translate_csv(new_df, 50)"
   ]
  },
  {
   "cell_type": "code",
   "execution_count": 63,
   "metadata": {},
   "outputs": [],
   "source": [
    "def save_translated_file(translated_document):\n",
    "    with open('translated_comment.csv', 'w') as file:\n",
    "        # Iterate over the elements in the list\n",
    "        for item in translated_document:\n",
    "            # Convert each item to a string and write it to the file\n",
    "            file.write(str(item) + '\\n')"
   ]
  },
  {
   "cell_type": "code",
   "execution_count": 65,
   "metadata": {},
   "outputs": [],
   "source": [
    "save_translated_file(translated_document)"
   ]
  },
  {
   "cell_type": "code",
   "execution_count": 68,
   "metadata": {},
   "outputs": [
    {
     "name": "stderr",
     "output_type": "stream",
     "text": [
      "/var/folders/tl/rdcj6pp130g_pdpr6thc58qr0000gn/T/ipykernel_8622/3733720732.py:1: SettingWithCopyWarning: \n",
      "A value is trying to be set on a copy of a slice from a DataFrame.\n",
      "Try using .loc[row_indexer,col_indexer] = value instead\n",
      "\n",
      "See the caveats in the documentation: https://pandas.pydata.org/pandas-docs/stable/user_guide/indexing.html#returning-a-view-versus-a-copy\n",
      "  new_df['translated'] = translated_document\n"
     ]
    }
   ],
   "source": [
    "new_df['translated'] = translated_document"
   ]
  },
  {
   "cell_type": "code",
   "execution_count": 70,
   "metadata": {},
   "outputs": [],
   "source": [
    "new_df.to_csv('CPNEE-new.csv')"
   ]
  },
  {
   "cell_type": "code",
   "execution_count": 92,
   "metadata": {},
   "outputs": [],
   "source": [
    "from datasets import Dataset, DatasetDict,ClassLabel\n",
    "from sklearn.model_selection import train_test_split"
   ]
  },
  {
   "cell_type": "code",
   "execution_count": 85,
   "metadata": {},
   "outputs": [],
   "source": [
    "new_df = pd.read_csv('CPNEE-new.csv')"
   ]
  },
  {
   "cell_type": "code",
   "execution_count": 88,
   "metadata": {},
   "outputs": [
    {
     "name": "stdout",
     "output_type": "stream",
     "text": [
      "640 80 80\n"
     ]
    }
   ],
   "source": [
    "# stratify on Sentiment because this model is for sentiment classification task\n",
    "train_data, eval_test_data = train_test_split(new_df, test_size=0.2, random_state=42,\n",
    "                                              stratify=new_df['Sentiment'])\n",
    "eval_data, test_data = train_test_split(eval_test_data, test_size=0.5, random_state=42,\n",
    "                                              stratify=eval_test_data['Sentiment'])\n",
    "\n",
    "print(len(train_data), len(eval_data), len(test_data))\n",
    "assert len(train_data) + len(eval_data)+ len(test_data) == len(new_df)"
   ]
  },
  {
   "cell_type": "code",
   "execution_count": 74,
   "metadata": {},
   "outputs": [
    {
     "data": {
      "text/plain": [
       "Label\n",
       "Direct Supervisor or Top Management    165\n",
       "Career Development and Growth          163\n",
       "Compensation and Benefits              157\n",
       "Collaboration                          155\n",
       "Name: count, dtype: int64"
      ]
     },
     "execution_count": 74,
     "metadata": {},
     "output_type": "execute_result"
    }
   ],
   "source": [
    "#without stratify\n",
    "train_data.Label.value_counts()"
   ]
  },
  {
   "cell_type": "code",
   "execution_count": 79,
   "metadata": {},
   "outputs": [
    {
     "data": {
      "text/plain": [
       "Label\n",
       "Career Development and Growth          160\n",
       "Collaboration                          160\n",
       "Compensation and Benefits              160\n",
       "Direct Supervisor or Top Management    160\n",
       "Name: count, dtype: int64"
      ]
     },
     "execution_count": 79,
     "metadata": {},
     "output_type": "execute_result"
    }
   ],
   "source": [
    "#with stratify\n",
    "train_data.Label.value_counts()"
   ]
  },
  {
   "cell_type": "code",
   "execution_count": 81,
   "metadata": {},
   "outputs": [
    {
     "data": {
      "text/plain": [
       "Sentiment\n",
       "Negative    320\n",
       "Positive    320\n",
       "Name: count, dtype: int64"
      ]
     },
     "execution_count": 81,
     "metadata": {},
     "output_type": "execute_result"
    }
   ],
   "source": [
    "train_data.Sentiment.value_counts()"
   ]
  },
  {
   "cell_type": "code",
   "execution_count": 75,
   "metadata": {},
   "outputs": [
    {
     "data": {
      "text/plain": [
       "Sentiment\n",
       "Positive    321\n",
       "Negative    319\n",
       "Name: count, dtype: int64"
      ]
     },
     "execution_count": 75,
     "metadata": {},
     "output_type": "execute_result"
    }
   ],
   "source": [
    "train_data.Sentiment.value_counts()"
   ]
  },
  {
   "cell_type": "code",
   "execution_count": 76,
   "metadata": {},
   "outputs": [
    {
     "data": {
      "text/plain": [
       "Label\n",
       "Collaboration                          45\n",
       "Compensation and Benefits              43\n",
       "Career Development and Growth          37\n",
       "Direct Supervisor or Top Management    35\n",
       "Name: count, dtype: int64"
      ]
     },
     "execution_count": 76,
     "metadata": {},
     "output_type": "execute_result"
    }
   ],
   "source": [
    "eval_test_data.Label.value_counts()"
   ]
  },
  {
   "cell_type": "code",
   "execution_count": 97,
   "metadata": {},
   "outputs": [],
   "source": [
    "d = {'train': Dataset.from_pandas(train_data),\n",
    "     'eval': Dataset.from_pandas(eval_data),\n",
    "     'test': Dataset.from_pandas(test_data)}\n",
    "dict_d = DatasetDict(d)"
   ]
  },
  {
   "cell_type": "code",
   "execution_count": 98,
   "metadata": {},
   "outputs": [
    {
     "data": {
      "text/plain": [
       "{'Unnamed: 0': Value(dtype='int64', id=None),\n",
       " 'Question': Value(dtype='string', id=None),\n",
       " 'RawComment': Value(dtype='string', id=None),\n",
       " 'OriginalLabel': Value(dtype='string', id=None),\n",
       " 'Label': Value(dtype='string', id=None),\n",
       " 'Sentiment': Value(dtype='string', id=None),\n",
       " 'cleanComment': Value(dtype='string', id=None),\n",
       " 'translated': Value(dtype='string', id=None),\n",
       " '__index_level_0__': Value(dtype='int64', id=None)}"
      ]
     },
     "execution_count": 98,
     "metadata": {},
     "output_type": "execute_result"
    }
   ],
   "source": [
    "dict_d['train'].features"
   ]
  },
  {
   "cell_type": "code",
   "execution_count": 99,
   "metadata": {},
   "outputs": [
    {
     "name": "stderr",
     "output_type": "stream",
     "text": [
      "                                                                   \r"
     ]
    }
   ],
   "source": [
    "new_feature = dict_d['train'].features\n",
    "new_feature['Sentiment'] =  ClassLabel(num_classes=2, names=[\"Negative\", \"Positive\"])\n",
    "\n",
    "dict_d['train'] = dict_d['train'].cast(new_feature)\n",
    "dict_d['eval'] = dict_d['eval'].cast(new_feature)\n",
    "dict_d['test'] = dict_d['test'].cast(new_feature)"
   ]
  },
  {
   "cell_type": "code",
   "execution_count": 100,
   "metadata": {},
   "outputs": [
    {
     "data": {
      "text/plain": [
       "{'Unnamed: 0': Value(dtype='int64', id=None),\n",
       " 'Question': Value(dtype='string', id=None),\n",
       " 'RawComment': Value(dtype='string', id=None),\n",
       " 'OriginalLabel': Value(dtype='string', id=None),\n",
       " 'Label': Value(dtype='string', id=None),\n",
       " 'Sentiment': ClassLabel(names=['Negative', 'Positive'], id=None),\n",
       " 'cleanComment': Value(dtype='string', id=None),\n",
       " 'translated': Value(dtype='string', id=None),\n",
       " '__index_level_0__': Value(dtype='int64', id=None)}"
      ]
     },
     "execution_count": 100,
     "metadata": {},
     "output_type": "execute_result"
    }
   ],
   "source": [
    "dict_d['train'].features"
   ]
  },
  {
   "cell_type": "code",
   "execution_count": 101,
   "metadata": {},
   "outputs": [
    {
     "name": "stderr",
     "output_type": "stream",
     "text": [
      "                                                                                             \r"
     ]
    }
   ],
   "source": [
    "dict_d.save_to_disk(\"800_hf_data\")"
   ]
  }
 ],
 "metadata": {
  "kernelspec": {
   "display_name": "cpnEE",
   "language": "python",
   "name": "python3"
  },
  "language_info": {
   "codemirror_mode": {
    "name": "ipython",
    "version": 3
   },
   "file_extension": ".py",
   "mimetype": "text/x-python",
   "name": "python",
   "nbconvert_exporter": "python",
   "pygments_lexer": "ipython3",
   "version": "3.10.5"
  },
  "orig_nbformat": 4
 },
 "nbformat": 4,
 "nbformat_minor": 2
}
