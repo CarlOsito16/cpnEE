{
  "nbformat": 4,
  "nbformat_minor": 0,
  "metadata": {
    "colab": {
      "provenance": [],
      "gpuType": "T4",
      "toc_visible": true,
      "authorship_tag": "ABX9TyM/3yYoVqNs7XeEpw/OUKzD",
      "include_colab_link": true
    },
    "kernelspec": {
      "name": "python3",
      "display_name": "Python 3"
    },
    "language_info": {
      "name": "python"
    },
    "accelerator": "GPU",
    "widgets": {
      "application/vnd.jupyter.widget-state+json": {
        "34b2985ff6d741109a5074861634b3d5": {
          "model_module": "@jupyter-widgets/controls",
          "model_name": "HBoxModel",
          "model_module_version": "1.5.0",
          "state": {
            "_dom_classes": [],
            "_model_module": "@jupyter-widgets/controls",
            "_model_module_version": "1.5.0",
            "_model_name": "HBoxModel",
            "_view_count": null,
            "_view_module": "@jupyter-widgets/controls",
            "_view_module_version": "1.5.0",
            "_view_name": "HBoxView",
            "box_style": "",
            "children": [
              "IPY_MODEL_93385620fe5c431b85ddd056ca2d8d23",
              "IPY_MODEL_e3e7d254cbe34e5eacd06b9b6bae10e0",
              "IPY_MODEL_c92cd30a4d4943b380eb934d72fe6348"
            ],
            "layout": "IPY_MODEL_f2ecd6a9d2b04d2490961892218b588e"
          }
        },
        "93385620fe5c431b85ddd056ca2d8d23": {
          "model_module": "@jupyter-widgets/controls",
          "model_name": "HTMLModel",
          "model_module_version": "1.5.0",
          "state": {
            "_dom_classes": [],
            "_model_module": "@jupyter-widgets/controls",
            "_model_module_version": "1.5.0",
            "_model_name": "HTMLModel",
            "_view_count": null,
            "_view_module": "@jupyter-widgets/controls",
            "_view_module_version": "1.5.0",
            "_view_name": "HTMLView",
            "description": "",
            "description_tooltip": null,
            "layout": "IPY_MODEL_7c7561a0cf9f4f18bc300f58600c4c2d",
            "placeholder": "​",
            "style": "IPY_MODEL_56d63305aa934773ba37d9b2eb3cf965",
            "value": "Map: 100%"
          }
        },
        "e3e7d254cbe34e5eacd06b9b6bae10e0": {
          "model_module": "@jupyter-widgets/controls",
          "model_name": "FloatProgressModel",
          "model_module_version": "1.5.0",
          "state": {
            "_dom_classes": [],
            "_model_module": "@jupyter-widgets/controls",
            "_model_module_version": "1.5.0",
            "_model_name": "FloatProgressModel",
            "_view_count": null,
            "_view_module": "@jupyter-widgets/controls",
            "_view_module_version": "1.5.0",
            "_view_name": "ProgressView",
            "bar_style": "",
            "description": "",
            "description_tooltip": null,
            "layout": "IPY_MODEL_33324d7b565f48a188ed08b124b8ce1c",
            "max": 80,
            "min": 0,
            "orientation": "horizontal",
            "style": "IPY_MODEL_9c92e6ceaebe4d3484552c632e0b7d94",
            "value": 80
          }
        },
        "c92cd30a4d4943b380eb934d72fe6348": {
          "model_module": "@jupyter-widgets/controls",
          "model_name": "HTMLModel",
          "model_module_version": "1.5.0",
          "state": {
            "_dom_classes": [],
            "_model_module": "@jupyter-widgets/controls",
            "_model_module_version": "1.5.0",
            "_model_name": "HTMLModel",
            "_view_count": null,
            "_view_module": "@jupyter-widgets/controls",
            "_view_module_version": "1.5.0",
            "_view_name": "HTMLView",
            "description": "",
            "description_tooltip": null,
            "layout": "IPY_MODEL_8adca7615a9b4137ac23f30741a034ed",
            "placeholder": "​",
            "style": "IPY_MODEL_ec93bf81148546f9958c675cf206178c",
            "value": " 80/80 [00:00&lt;00:00, 564.25 examples/s]"
          }
        },
        "f2ecd6a9d2b04d2490961892218b588e": {
          "model_module": "@jupyter-widgets/base",
          "model_name": "LayoutModel",
          "model_module_version": "1.2.0",
          "state": {
            "_model_module": "@jupyter-widgets/base",
            "_model_module_version": "1.2.0",
            "_model_name": "LayoutModel",
            "_view_count": null,
            "_view_module": "@jupyter-widgets/base",
            "_view_module_version": "1.2.0",
            "_view_name": "LayoutView",
            "align_content": null,
            "align_items": null,
            "align_self": null,
            "border": null,
            "bottom": null,
            "display": null,
            "flex": null,
            "flex_flow": null,
            "grid_area": null,
            "grid_auto_columns": null,
            "grid_auto_flow": null,
            "grid_auto_rows": null,
            "grid_column": null,
            "grid_gap": null,
            "grid_row": null,
            "grid_template_areas": null,
            "grid_template_columns": null,
            "grid_template_rows": null,
            "height": null,
            "justify_content": null,
            "justify_items": null,
            "left": null,
            "margin": null,
            "max_height": null,
            "max_width": null,
            "min_height": null,
            "min_width": null,
            "object_fit": null,
            "object_position": null,
            "order": null,
            "overflow": null,
            "overflow_x": null,
            "overflow_y": null,
            "padding": null,
            "right": null,
            "top": null,
            "visibility": "hidden",
            "width": null
          }
        },
        "7c7561a0cf9f4f18bc300f58600c4c2d": {
          "model_module": "@jupyter-widgets/base",
          "model_name": "LayoutModel",
          "model_module_version": "1.2.0",
          "state": {
            "_model_module": "@jupyter-widgets/base",
            "_model_module_version": "1.2.0",
            "_model_name": "LayoutModel",
            "_view_count": null,
            "_view_module": "@jupyter-widgets/base",
            "_view_module_version": "1.2.0",
            "_view_name": "LayoutView",
            "align_content": null,
            "align_items": null,
            "align_self": null,
            "border": null,
            "bottom": null,
            "display": null,
            "flex": null,
            "flex_flow": null,
            "grid_area": null,
            "grid_auto_columns": null,
            "grid_auto_flow": null,
            "grid_auto_rows": null,
            "grid_column": null,
            "grid_gap": null,
            "grid_row": null,
            "grid_template_areas": null,
            "grid_template_columns": null,
            "grid_template_rows": null,
            "height": null,
            "justify_content": null,
            "justify_items": null,
            "left": null,
            "margin": null,
            "max_height": null,
            "max_width": null,
            "min_height": null,
            "min_width": null,
            "object_fit": null,
            "object_position": null,
            "order": null,
            "overflow": null,
            "overflow_x": null,
            "overflow_y": null,
            "padding": null,
            "right": null,
            "top": null,
            "visibility": null,
            "width": null
          }
        },
        "56d63305aa934773ba37d9b2eb3cf965": {
          "model_module": "@jupyter-widgets/controls",
          "model_name": "DescriptionStyleModel",
          "model_module_version": "1.5.0",
          "state": {
            "_model_module": "@jupyter-widgets/controls",
            "_model_module_version": "1.5.0",
            "_model_name": "DescriptionStyleModel",
            "_view_count": null,
            "_view_module": "@jupyter-widgets/base",
            "_view_module_version": "1.2.0",
            "_view_name": "StyleView",
            "description_width": ""
          }
        },
        "33324d7b565f48a188ed08b124b8ce1c": {
          "model_module": "@jupyter-widgets/base",
          "model_name": "LayoutModel",
          "model_module_version": "1.2.0",
          "state": {
            "_model_module": "@jupyter-widgets/base",
            "_model_module_version": "1.2.0",
            "_model_name": "LayoutModel",
            "_view_count": null,
            "_view_module": "@jupyter-widgets/base",
            "_view_module_version": "1.2.0",
            "_view_name": "LayoutView",
            "align_content": null,
            "align_items": null,
            "align_self": null,
            "border": null,
            "bottom": null,
            "display": null,
            "flex": null,
            "flex_flow": null,
            "grid_area": null,
            "grid_auto_columns": null,
            "grid_auto_flow": null,
            "grid_auto_rows": null,
            "grid_column": null,
            "grid_gap": null,
            "grid_row": null,
            "grid_template_areas": null,
            "grid_template_columns": null,
            "grid_template_rows": null,
            "height": null,
            "justify_content": null,
            "justify_items": null,
            "left": null,
            "margin": null,
            "max_height": null,
            "max_width": null,
            "min_height": null,
            "min_width": null,
            "object_fit": null,
            "object_position": null,
            "order": null,
            "overflow": null,
            "overflow_x": null,
            "overflow_y": null,
            "padding": null,
            "right": null,
            "top": null,
            "visibility": null,
            "width": null
          }
        },
        "9c92e6ceaebe4d3484552c632e0b7d94": {
          "model_module": "@jupyter-widgets/controls",
          "model_name": "ProgressStyleModel",
          "model_module_version": "1.5.0",
          "state": {
            "_model_module": "@jupyter-widgets/controls",
            "_model_module_version": "1.5.0",
            "_model_name": "ProgressStyleModel",
            "_view_count": null,
            "_view_module": "@jupyter-widgets/base",
            "_view_module_version": "1.2.0",
            "_view_name": "StyleView",
            "bar_color": null,
            "description_width": ""
          }
        },
        "8adca7615a9b4137ac23f30741a034ed": {
          "model_module": "@jupyter-widgets/base",
          "model_name": "LayoutModel",
          "model_module_version": "1.2.0",
          "state": {
            "_model_module": "@jupyter-widgets/base",
            "_model_module_version": "1.2.0",
            "_model_name": "LayoutModel",
            "_view_count": null,
            "_view_module": "@jupyter-widgets/base",
            "_view_module_version": "1.2.0",
            "_view_name": "LayoutView",
            "align_content": null,
            "align_items": null,
            "align_self": null,
            "border": null,
            "bottom": null,
            "display": null,
            "flex": null,
            "flex_flow": null,
            "grid_area": null,
            "grid_auto_columns": null,
            "grid_auto_flow": null,
            "grid_auto_rows": null,
            "grid_column": null,
            "grid_gap": null,
            "grid_row": null,
            "grid_template_areas": null,
            "grid_template_columns": null,
            "grid_template_rows": null,
            "height": null,
            "justify_content": null,
            "justify_items": null,
            "left": null,
            "margin": null,
            "max_height": null,
            "max_width": null,
            "min_height": null,
            "min_width": null,
            "object_fit": null,
            "object_position": null,
            "order": null,
            "overflow": null,
            "overflow_x": null,
            "overflow_y": null,
            "padding": null,
            "right": null,
            "top": null,
            "visibility": null,
            "width": null
          }
        },
        "ec93bf81148546f9958c675cf206178c": {
          "model_module": "@jupyter-widgets/controls",
          "model_name": "DescriptionStyleModel",
          "model_module_version": "1.5.0",
          "state": {
            "_model_module": "@jupyter-widgets/controls",
            "_model_module_version": "1.5.0",
            "_model_name": "DescriptionStyleModel",
            "_view_count": null,
            "_view_module": "@jupyter-widgets/base",
            "_view_module_version": "1.2.0",
            "_view_name": "StyleView",
            "description_width": ""
          }
        }
      }
    }
  },
  "cells": [
    {
      "cell_type": "markdown",
      "metadata": {
        "id": "view-in-github",
        "colab_type": "text"
      },
      "source": [
        "<a href=\"https://colab.research.google.com/github/CarlOsito16/cpnEE/blob/main/cpnEE_new.ipynb\" target=\"_parent\"><img src=\"https://colab.research.google.com/assets/colab-badge.svg\" alt=\"Open In Colab\"/></a>"
      ]
    },
    {
      "cell_type": "code",
      "execution_count": null,
      "metadata": {
        "id": "WK2L4wQmJ-b-"
      },
      "outputs": [],
      "source": [
        "!pip install torch transformers accelerate>=0.20.1 datasets evaluate"
      ]
    },
    {
      "cell_type": "code",
      "source": [
        "!rm -rf /content/800_hf_data"
      ],
      "metadata": {
        "id": "Gv2wYPBTxRVw"
      },
      "execution_count": 5,
      "outputs": []
    },
    {
      "cell_type": "code",
      "source": [
        "!unzip 800_hf_data.zip"
      ],
      "metadata": {
        "colab": {
          "base_uri": "https://localhost:8080/"
        },
        "id": "x00YXSwiKHwB",
        "outputId": "658c801d-7060-447b-93ad-ab82e18a15cb"
      },
      "execution_count": 6,
      "outputs": [
        {
          "output_type": "stream",
          "name": "stdout",
          "text": [
            "Archive:  800_hf_data.zip\n",
            "   creating: 800_hf_data/\n",
            "  inflating: 800_hf_data/dataset_dict.json  \n",
            "   creating: 800_hf_data/test/\n",
            "   creating: 800_hf_data/train/\n",
            "   creating: 800_hf_data/eval/\n",
            "  inflating: 800_hf_data/test/state.json  \n",
            "  inflating: 800_hf_data/test/dataset_info.json  \n",
            "  inflating: 800_hf_data/test/data-00000-of-00001.arrow  \n",
            "  inflating: 800_hf_data/train/state.json  \n",
            "  inflating: 800_hf_data/train/dataset_info.json  \n",
            "  inflating: 800_hf_data/train/data-00000-of-00001.arrow  \n",
            "  inflating: 800_hf_data/eval/state.json  \n",
            "  inflating: 800_hf_data/eval/dataset_info.json  \n",
            "  inflating: 800_hf_data/eval/data-00000-of-00001.arrow  \n"
          ]
        }
      ]
    },
    {
      "cell_type": "code",
      "source": [
        "from datasets import load_from_disk\n",
        "from transformers import AutoTokenizer, AutoModel\n",
        "import torch\n",
        "import torch.nn.functional as F\n",
        "\n",
        "\n",
        "from transformers import AutoModelForSequenceClassification\n",
        "from transformers import TrainingArguments, Trainer\n",
        "import numpy as np"
      ],
      "metadata": {
        "id": "pJ39YlFLLCjJ"
      },
      "execution_count": 1,
      "outputs": []
    },
    {
      "cell_type": "code",
      "source": [
        "complete_dataset_dict  = load_from_disk(\"800_hf_data\")\n",
        "complete_dataset_dict"
      ],
      "metadata": {
        "colab": {
          "base_uri": "https://localhost:8080/"
        },
        "id": "yKi9pwbpLynE",
        "outputId": "12b0957f-0092-4870-f090-0e91ba323f8c"
      },
      "execution_count": 2,
      "outputs": [
        {
          "output_type": "execute_result",
          "data": {
            "text/plain": [
              "DatasetDict({\n",
              "    train: Dataset({\n",
              "        features: ['Unnamed: 0', 'Question', 'RawComment', 'OriginalLabel', 'Label', 'Sentiment', 'cleanComment', 'translated', '__index_level_0__'],\n",
              "        num_rows: 640\n",
              "    })\n",
              "    eval: Dataset({\n",
              "        features: ['Unnamed: 0', 'Question', 'RawComment', 'OriginalLabel', 'Label', 'Sentiment', 'cleanComment', 'translated', '__index_level_0__'],\n",
              "        num_rows: 80\n",
              "    })\n",
              "    test: Dataset({\n",
              "        features: ['Unnamed: 0', 'Question', 'RawComment', 'OriginalLabel', 'Label', 'Sentiment', 'cleanComment', 'translated', '__index_level_0__'],\n",
              "        num_rows: 80\n",
              "    })\n",
              "})"
            ]
          },
          "metadata": {},
          "execution_count": 2
        }
      ]
    },
    {
      "cell_type": "code",
      "source": [
        "complete_dataset_dict['train'].features"
      ],
      "metadata": {
        "id": "kUqSsECMwjCm",
        "colab": {
          "base_uri": "https://localhost:8080/"
        },
        "outputId": "3eda76f0-c5cd-441f-9f1c-2f8ff239466e"
      },
      "execution_count": 3,
      "outputs": [
        {
          "output_type": "execute_result",
          "data": {
            "text/plain": [
              "{'Unnamed: 0': Value(dtype='int64', id=None),\n",
              " 'Question': Value(dtype='string', id=None),\n",
              " 'RawComment': Value(dtype='string', id=None),\n",
              " 'OriginalLabel': Value(dtype='string', id=None),\n",
              " 'Label': Value(dtype='string', id=None),\n",
              " 'Sentiment': ClassLabel(names=['Negative', 'Positive'], id=None),\n",
              " 'cleanComment': Value(dtype='string', id=None),\n",
              " 'translated': Value(dtype='string', id=None),\n",
              " '__index_level_0__': Value(dtype='int64', id=None)}"
            ]
          },
          "metadata": {},
          "execution_count": 3
        }
      ]
    },
    {
      "cell_type": "code",
      "source": [
        "tokenizer = AutoTokenizer.from_pretrained(\"microsoft/MiniLM-L12-H384-uncased\")"
      ],
      "metadata": {
        "id": "nHmgi0-1LMyz"
      },
      "execution_count": 4,
      "outputs": []
    },
    {
      "cell_type": "code",
      "source": [
        "# define tokenizer funciton to be used with dataset.Dataset\n",
        "def tokenize_dataset(examples):\n",
        "    return tokenizer(examples['translated'], #here we must specify the name of the input text column\n",
        "                     max_length = 64,\n",
        "                     truncation = True,\n",
        "                     padding = \"max_length\")\n",
        "\n"
      ],
      "metadata": {
        "id": "7knCNs3rL9T6"
      },
      "execution_count": 5,
      "outputs": []
    },
    {
      "cell_type": "code",
      "source": [
        "# The beauty of using datasets.Dataset is that we can use .map with the `tokenize_dataset` function directly\n",
        "complete_dataset_dict = complete_dataset_dict.map(tokenize_dataset, batched= True)\n",
        "complete_dataset_dict"
      ],
      "metadata": {
        "colab": {
          "base_uri": "https://localhost:8080/",
          "height": 352,
          "referenced_widgets": [
            "34b2985ff6d741109a5074861634b3d5",
            "93385620fe5c431b85ddd056ca2d8d23",
            "e3e7d254cbe34e5eacd06b9b6bae10e0",
            "c92cd30a4d4943b380eb934d72fe6348",
            "f2ecd6a9d2b04d2490961892218b588e",
            "7c7561a0cf9f4f18bc300f58600c4c2d",
            "56d63305aa934773ba37d9b2eb3cf965",
            "33324d7b565f48a188ed08b124b8ce1c",
            "9c92e6ceaebe4d3484552c632e0b7d94",
            "8adca7615a9b4137ac23f30741a034ed",
            "ec93bf81148546f9958c675cf206178c"
          ]
        },
        "id": "tgxn6hx7L9yq",
        "outputId": "de673801-9f95-4a90-ca37-0b74f0e68e68"
      },
      "execution_count": 6,
      "outputs": [
        {
          "output_type": "stream",
          "name": "stderr",
          "text": [
            "WARNING:datasets.arrow_dataset:Loading cached processed dataset at /content/800_hf_data/train/cache-2dc02b811c23d156.arrow\n",
            "WARNING:datasets.arrow_dataset:Loading cached processed dataset at /content/800_hf_data/eval/cache-80b1458c32bdf46e.arrow\n"
          ]
        },
        {
          "output_type": "display_data",
          "data": {
            "text/plain": [
              "Map:   0%|          | 0/80 [00:00<?, ? examples/s]"
            ],
            "application/vnd.jupyter.widget-view+json": {
              "version_major": 2,
              "version_minor": 0,
              "model_id": "34b2985ff6d741109a5074861634b3d5"
            }
          },
          "metadata": {}
        },
        {
          "output_type": "execute_result",
          "data": {
            "text/plain": [
              "DatasetDict({\n",
              "    train: Dataset({\n",
              "        features: ['Unnamed: 0', 'Question', 'RawComment', 'OriginalLabel', 'Label', 'Sentiment', 'cleanComment', 'translated', '__index_level_0__', 'input_ids', 'token_type_ids', 'attention_mask'],\n",
              "        num_rows: 640\n",
              "    })\n",
              "    eval: Dataset({\n",
              "        features: ['Unnamed: 0', 'Question', 'RawComment', 'OriginalLabel', 'Label', 'Sentiment', 'cleanComment', 'translated', '__index_level_0__', 'input_ids', 'token_type_ids', 'attention_mask'],\n",
              "        num_rows: 80\n",
              "    })\n",
              "    test: Dataset({\n",
              "        features: ['Unnamed: 0', 'Question', 'RawComment', 'OriginalLabel', 'Label', 'Sentiment', 'cleanComment', 'translated', '__index_level_0__', 'input_ids', 'token_type_ids', 'attention_mask'],\n",
              "        num_rows: 80\n",
              "    })\n",
              "})"
            ]
          },
          "metadata": {},
          "execution_count": 6
        }
      ]
    },
    {
      "cell_type": "code",
      "source": [
        "complete_dataset_dict['train'].features"
      ],
      "metadata": {
        "colab": {
          "base_uri": "https://localhost:8080/"
        },
        "id": "Sr73jxVrwTsm",
        "outputId": "36df0c3a-ce8f-4382-fe3c-4cc9de02f85a"
      },
      "execution_count": 7,
      "outputs": [
        {
          "output_type": "execute_result",
          "data": {
            "text/plain": [
              "{'Unnamed: 0': Value(dtype='int64', id=None),\n",
              " 'Question': Value(dtype='string', id=None),\n",
              " 'RawComment': Value(dtype='string', id=None),\n",
              " 'OriginalLabel': Value(dtype='string', id=None),\n",
              " 'Label': Value(dtype='string', id=None),\n",
              " 'Sentiment': ClassLabel(names=['Negative', 'Positive'], id=None),\n",
              " 'cleanComment': Value(dtype='string', id=None),\n",
              " 'translated': Value(dtype='string', id=None),\n",
              " '__index_level_0__': Value(dtype='int64', id=None),\n",
              " 'input_ids': Sequence(feature=Value(dtype='int32', id=None), length=-1, id=None),\n",
              " 'token_type_ids': Sequence(feature=Value(dtype='int8', id=None), length=-1, id=None),\n",
              " 'attention_mask': Sequence(feature=Value(dtype='int8', id=None), length=-1, id=None)}"
            ]
          },
          "metadata": {},
          "execution_count": 7
        }
      ]
    },
    {
      "cell_type": "code",
      "source": [
        "complete_dataset_dict['train'].to_pandas().head()"
      ],
      "metadata": {
        "colab": {
          "base_uri": "https://localhost:8080/",
          "height": 695
        },
        "id": "dmuJOrTzQQtZ",
        "outputId": "d8042f1e-5929-47b2-f6f9-fa406eaa4774"
      },
      "execution_count": 8,
      "outputs": [
        {
          "output_type": "execute_result",
          "data": {
            "text/plain": [
              "   Unnamed: 0                                           Question  \\\n",
              "0         947  When talking about your work experience in the...   \n",
              "1        1980  What do you like most about working in this or...   \n",
              "2        4607  What do you like most about working in this or...   \n",
              "3        4692  When talking about your work experience in the...   \n",
              "4        1189  When talking about your work experience in the...   \n",
              "\n",
              "                                          RawComment           OriginalLabel  \\\n",
              "0  ความร่วมมือในการทำงาน | ความร่วมมือคนในแผนกยัง...  ความร่วมมือในการทำงาน    \n",
              "1  สวัสดิการ | เวลาเจ็บไข้ได้ป่วยสามารถไปรักษาได้...              สวัสดิการ    \n",
              "2  หัวหน้างานโดยตรง | หัวหน้างานและทีมงานภายในศูน...       หัวหน้างานโดยตรง    \n",
              "3  หัวหน้างานโดยตรง | อยากให้มีการสื่อสารข่าวสารก...       หัวหน้างานโดยตรง    \n",
              "4  ช่องทางการสื่อสาร | การสื่อสารต่างแผนกควรสื่อส...      ช่องทางการสื่อสาร    \n",
              "\n",
              "                                 Label  Sentiment  \\\n",
              "0                        Collaboration          0   \n",
              "1            Compensation and Benefits          1   \n",
              "2  Direct Supervisor or Top Management          1   \n",
              "3  Direct Supervisor or Top Management          0   \n",
              "4                        Collaboration          0   \n",
              "\n",
              "                                        cleanComment  \\\n",
              "0       ความร่วมมือคนในแผนกยังมีความเห็นแก่ตัวกันมาก   \n",
              "1  เวลาเจ็บไข้ได้ป่วยสามารถไปรักษาได้โดยไม่ต้องเส...   \n",
              "2  หัวหน้างานและทีมงานภายในศูนย์ให้ความร่วมมือและ...   \n",
              "3  อยากให้มีการสื่อสารข่าวสารกิจกรรมต่างๆของบริษั...   \n",
              "4              การสื่อสารต่างแผนกควรสื่อสารให้ชัดเจน   \n",
              "\n",
              "                                          translated  __index_level_0__  \\\n",
              "0  Cooperation, people in the department are stil...                721   \n",
              "1  When you get sick, you can go for treatment wi...                260   \n",
              "2  Supervisors and team members in the center coo...                494   \n",
              "3  I would like to communicate news and activitie...                589   \n",
              "4  Communication from different departments shoul...                712   \n",
              "\n",
              "                                           input_ids  \\\n",
              "0  [101, 6792, 1010, 2111, 1999, 1996, 2533, 2024...   \n",
              "1  [101, 2043, 2017, 2131, 5305, 1010, 2017, 2064...   \n",
              "2  [101, 22565, 1998, 2136, 2372, 1999, 1996, 241...   \n",
              "3  [101, 1045, 2052, 2066, 2000, 10639, 2739, 199...   \n",
              "4  [101, 4807, 2013, 2367, 7640, 2323, 2022, 4415...   \n",
              "\n",
              "                                      token_type_ids  \\\n",
              "0  [0, 0, 0, 0, 0, 0, 0, 0, 0, 0, 0, 0, 0, 0, 0, ...   \n",
              "1  [0, 0, 0, 0, 0, 0, 0, 0, 0, 0, 0, 0, 0, 0, 0, ...   \n",
              "2  [0, 0, 0, 0, 0, 0, 0, 0, 0, 0, 0, 0, 0, 0, 0, ...   \n",
              "3  [0, 0, 0, 0, 0, 0, 0, 0, 0, 0, 0, 0, 0, 0, 0, ...   \n",
              "4  [0, 0, 0, 0, 0, 0, 0, 0, 0, 0, 0, 0, 0, 0, 0, ...   \n",
              "\n",
              "                                      attention_mask  \n",
              "0  [1, 1, 1, 1, 1, 1, 1, 1, 1, 1, 1, 1, 1, 0, 0, ...  \n",
              "1  [1, 1, 1, 1, 1, 1, 1, 1, 1, 1, 1, 1, 1, 1, 1, ...  \n",
              "2  [1, 1, 1, 1, 1, 1, 1, 1, 1, 1, 1, 1, 1, 1, 1, ...  \n",
              "3  [1, 1, 1, 1, 1, 1, 1, 1, 1, 1, 1, 1, 1, 1, 1, ...  \n",
              "4  [1, 1, 1, 1, 1, 1, 1, 1, 1, 1, 1, 0, 0, 0, 0, ...  "
            ],
            "text/html": [
              "\n",
              "  <div id=\"df-567a11bc-9965-450d-8a16-8f1eda010743\">\n",
              "    <div class=\"colab-df-container\">\n",
              "      <div>\n",
              "<style scoped>\n",
              "    .dataframe tbody tr th:only-of-type {\n",
              "        vertical-align: middle;\n",
              "    }\n",
              "\n",
              "    .dataframe tbody tr th {\n",
              "        vertical-align: top;\n",
              "    }\n",
              "\n",
              "    .dataframe thead th {\n",
              "        text-align: right;\n",
              "    }\n",
              "</style>\n",
              "<table border=\"1\" class=\"dataframe\">\n",
              "  <thead>\n",
              "    <tr style=\"text-align: right;\">\n",
              "      <th></th>\n",
              "      <th>Unnamed: 0</th>\n",
              "      <th>Question</th>\n",
              "      <th>RawComment</th>\n",
              "      <th>OriginalLabel</th>\n",
              "      <th>Label</th>\n",
              "      <th>Sentiment</th>\n",
              "      <th>cleanComment</th>\n",
              "      <th>translated</th>\n",
              "      <th>__index_level_0__</th>\n",
              "      <th>input_ids</th>\n",
              "      <th>token_type_ids</th>\n",
              "      <th>attention_mask</th>\n",
              "    </tr>\n",
              "  </thead>\n",
              "  <tbody>\n",
              "    <tr>\n",
              "      <th>0</th>\n",
              "      <td>947</td>\n",
              "      <td>When talking about your work experience in the...</td>\n",
              "      <td>ความร่วมมือในการทำงาน | ความร่วมมือคนในแผนกยัง...</td>\n",
              "      <td>ความร่วมมือในการทำงาน</td>\n",
              "      <td>Collaboration</td>\n",
              "      <td>0</td>\n",
              "      <td>ความร่วมมือคนในแผนกยังมีความเห็นแก่ตัวกันมาก</td>\n",
              "      <td>Cooperation, people in the department are stil...</td>\n",
              "      <td>721</td>\n",
              "      <td>[101, 6792, 1010, 2111, 1999, 1996, 2533, 2024...</td>\n",
              "      <td>[0, 0, 0, 0, 0, 0, 0, 0, 0, 0, 0, 0, 0, 0, 0, ...</td>\n",
              "      <td>[1, 1, 1, 1, 1, 1, 1, 1, 1, 1, 1, 1, 1, 0, 0, ...</td>\n",
              "    </tr>\n",
              "    <tr>\n",
              "      <th>1</th>\n",
              "      <td>1980</td>\n",
              "      <td>What do you like most about working in this or...</td>\n",
              "      <td>สวัสดิการ | เวลาเจ็บไข้ได้ป่วยสามารถไปรักษาได้...</td>\n",
              "      <td>สวัสดิการ</td>\n",
              "      <td>Compensation and Benefits</td>\n",
              "      <td>1</td>\n",
              "      <td>เวลาเจ็บไข้ได้ป่วยสามารถไปรักษาได้โดยไม่ต้องเส...</td>\n",
              "      <td>When you get sick, you can go for treatment wi...</td>\n",
              "      <td>260</td>\n",
              "      <td>[101, 2043, 2017, 2131, 5305, 1010, 2017, 2064...</td>\n",
              "      <td>[0, 0, 0, 0, 0, 0, 0, 0, 0, 0, 0, 0, 0, 0, 0, ...</td>\n",
              "      <td>[1, 1, 1, 1, 1, 1, 1, 1, 1, 1, 1, 1, 1, 1, 1, ...</td>\n",
              "    </tr>\n",
              "    <tr>\n",
              "      <th>2</th>\n",
              "      <td>4607</td>\n",
              "      <td>What do you like most about working in this or...</td>\n",
              "      <td>หัวหน้างานโดยตรง | หัวหน้างานและทีมงานภายในศูน...</td>\n",
              "      <td>หัวหน้างานโดยตรง</td>\n",
              "      <td>Direct Supervisor or Top Management</td>\n",
              "      <td>1</td>\n",
              "      <td>หัวหน้างานและทีมงานภายในศูนย์ให้ความร่วมมือและ...</td>\n",
              "      <td>Supervisors and team members in the center coo...</td>\n",
              "      <td>494</td>\n",
              "      <td>[101, 22565, 1998, 2136, 2372, 1999, 1996, 241...</td>\n",
              "      <td>[0, 0, 0, 0, 0, 0, 0, 0, 0, 0, 0, 0, 0, 0, 0, ...</td>\n",
              "      <td>[1, 1, 1, 1, 1, 1, 1, 1, 1, 1, 1, 1, 1, 1, 1, ...</td>\n",
              "    </tr>\n",
              "    <tr>\n",
              "      <th>3</th>\n",
              "      <td>4692</td>\n",
              "      <td>When talking about your work experience in the...</td>\n",
              "      <td>หัวหน้างานโดยตรง | อยากให้มีการสื่อสารข่าวสารก...</td>\n",
              "      <td>หัวหน้างานโดยตรง</td>\n",
              "      <td>Direct Supervisor or Top Management</td>\n",
              "      <td>0</td>\n",
              "      <td>อยากให้มีการสื่อสารข่าวสารกิจกรรมต่างๆของบริษั...</td>\n",
              "      <td>I would like to communicate news and activitie...</td>\n",
              "      <td>589</td>\n",
              "      <td>[101, 1045, 2052, 2066, 2000, 10639, 2739, 199...</td>\n",
              "      <td>[0, 0, 0, 0, 0, 0, 0, 0, 0, 0, 0, 0, 0, 0, 0, ...</td>\n",
              "      <td>[1, 1, 1, 1, 1, 1, 1, 1, 1, 1, 1, 1, 1, 1, 1, ...</td>\n",
              "    </tr>\n",
              "    <tr>\n",
              "      <th>4</th>\n",
              "      <td>1189</td>\n",
              "      <td>When talking about your work experience in the...</td>\n",
              "      <td>ช่องทางการสื่อสาร | การสื่อสารต่างแผนกควรสื่อส...</td>\n",
              "      <td>ช่องทางการสื่อสาร</td>\n",
              "      <td>Collaboration</td>\n",
              "      <td>0</td>\n",
              "      <td>การสื่อสารต่างแผนกควรสื่อสารให้ชัดเจน</td>\n",
              "      <td>Communication from different departments shoul...</td>\n",
              "      <td>712</td>\n",
              "      <td>[101, 4807, 2013, 2367, 7640, 2323, 2022, 4415...</td>\n",
              "      <td>[0, 0, 0, 0, 0, 0, 0, 0, 0, 0, 0, 0, 0, 0, 0, ...</td>\n",
              "      <td>[1, 1, 1, 1, 1, 1, 1, 1, 1, 1, 1, 0, 0, 0, 0, ...</td>\n",
              "    </tr>\n",
              "  </tbody>\n",
              "</table>\n",
              "</div>\n",
              "      <button class=\"colab-df-convert\" onclick=\"convertToInteractive('df-567a11bc-9965-450d-8a16-8f1eda010743')\"\n",
              "              title=\"Convert this dataframe to an interactive table.\"\n",
              "              style=\"display:none;\">\n",
              "        \n",
              "  <svg xmlns=\"http://www.w3.org/2000/svg\" height=\"24px\"viewBox=\"0 0 24 24\"\n",
              "       width=\"24px\">\n",
              "    <path d=\"M0 0h24v24H0V0z\" fill=\"none\"/>\n",
              "    <path d=\"M18.56 5.44l.94 2.06.94-2.06 2.06-.94-2.06-.94-.94-2.06-.94 2.06-2.06.94zm-11 1L8.5 8.5l.94-2.06 2.06-.94-2.06-.94L8.5 2.5l-.94 2.06-2.06.94zm10 10l.94 2.06.94-2.06 2.06-.94-2.06-.94-.94-2.06-.94 2.06-2.06.94z\"/><path d=\"M17.41 7.96l-1.37-1.37c-.4-.4-.92-.59-1.43-.59-.52 0-1.04.2-1.43.59L10.3 9.45l-7.72 7.72c-.78.78-.78 2.05 0 2.83L4 21.41c.39.39.9.59 1.41.59.51 0 1.02-.2 1.41-.59l7.78-7.78 2.81-2.81c.8-.78.8-2.07 0-2.86zM5.41 20L4 18.59l7.72-7.72 1.47 1.35L5.41 20z\"/>\n",
              "  </svg>\n",
              "      </button>\n",
              "      \n",
              "  <style>\n",
              "    .colab-df-container {\n",
              "      display:flex;\n",
              "      flex-wrap:wrap;\n",
              "      gap: 12px;\n",
              "    }\n",
              "\n",
              "    .colab-df-convert {\n",
              "      background-color: #E8F0FE;\n",
              "      border: none;\n",
              "      border-radius: 50%;\n",
              "      cursor: pointer;\n",
              "      display: none;\n",
              "      fill: #1967D2;\n",
              "      height: 32px;\n",
              "      padding: 0 0 0 0;\n",
              "      width: 32px;\n",
              "    }\n",
              "\n",
              "    .colab-df-convert:hover {\n",
              "      background-color: #E2EBFA;\n",
              "      box-shadow: 0px 1px 2px rgba(60, 64, 67, 0.3), 0px 1px 3px 1px rgba(60, 64, 67, 0.15);\n",
              "      fill: #174EA6;\n",
              "    }\n",
              "\n",
              "    [theme=dark] .colab-df-convert {\n",
              "      background-color: #3B4455;\n",
              "      fill: #D2E3FC;\n",
              "    }\n",
              "\n",
              "    [theme=dark] .colab-df-convert:hover {\n",
              "      background-color: #434B5C;\n",
              "      box-shadow: 0px 1px 3px 1px rgba(0, 0, 0, 0.15);\n",
              "      filter: drop-shadow(0px 1px 2px rgba(0, 0, 0, 0.3));\n",
              "      fill: #FFFFFF;\n",
              "    }\n",
              "  </style>\n",
              "\n",
              "      <script>\n",
              "        const buttonEl =\n",
              "          document.querySelector('#df-567a11bc-9965-450d-8a16-8f1eda010743 button.colab-df-convert');\n",
              "        buttonEl.style.display =\n",
              "          google.colab.kernel.accessAllowed ? 'block' : 'none';\n",
              "\n",
              "        async function convertToInteractive(key) {\n",
              "          const element = document.querySelector('#df-567a11bc-9965-450d-8a16-8f1eda010743');\n",
              "          const dataTable =\n",
              "            await google.colab.kernel.invokeFunction('convertToInteractive',\n",
              "                                                     [key], {});\n",
              "          if (!dataTable) return;\n",
              "\n",
              "          const docLinkHtml = 'Like what you see? Visit the ' +\n",
              "            '<a target=\"_blank\" href=https://colab.research.google.com/notebooks/data_table.ipynb>data table notebook</a>'\n",
              "            + ' to learn more about interactive tables.';\n",
              "          element.innerHTML = '';\n",
              "          dataTable['output_type'] = 'display_data';\n",
              "          await google.colab.output.renderOutput(dataTable, element);\n",
              "          const docLink = document.createElement('div');\n",
              "          docLink.innerHTML = docLinkHtml;\n",
              "          element.appendChild(docLink);\n",
              "        }\n",
              "      </script>\n",
              "    </div>\n",
              "  </div>\n",
              "  "
            ]
          },
          "metadata": {},
          "execution_count": 8
        }
      ]
    },
    {
      "cell_type": "markdown",
      "source": [
        "# Next step is very import to preprocess the dataset to be ready for the trainer"
      ],
      "metadata": {
        "id": "3u7weSh9QrEJ"
      }
    },
    {
      "cell_type": "code",
      "source": [
        "complete_dataset_dict = complete_dataset_dict.remove_columns(['Unnamed: 0', 'Question', 'RawComment', 'OriginalLabel','Label',  'cleanComment', 'translated', '__index_level_0__' ])\n",
        "complete_dataset_dict = complete_dataset_dict.rename_column('Sentiment', \"labels\")"
      ],
      "metadata": {
        "id": "0-qC19ckPZaI"
      },
      "execution_count": 9,
      "outputs": []
    },
    {
      "cell_type": "code",
      "source": [
        "complete_dataset_dict"
      ],
      "metadata": {
        "colab": {
          "base_uri": "https://localhost:8080/"
        },
        "id": "_1cMWa-iQPLl",
        "outputId": "e3c11072-264a-4d85-c6ba-20b07df90aaf"
      },
      "execution_count": 10,
      "outputs": [
        {
          "output_type": "execute_result",
          "data": {
            "text/plain": [
              "DatasetDict({\n",
              "    train: Dataset({\n",
              "        features: ['labels', 'input_ids', 'token_type_ids', 'attention_mask'],\n",
              "        num_rows: 640\n",
              "    })\n",
              "    eval: Dataset({\n",
              "        features: ['labels', 'input_ids', 'token_type_ids', 'attention_mask'],\n",
              "        num_rows: 80\n",
              "    })\n",
              "    test: Dataset({\n",
              "        features: ['labels', 'input_ids', 'token_type_ids', 'attention_mask'],\n",
              "        num_rows: 80\n",
              "    })\n",
              "})"
            ]
          },
          "metadata": {},
          "execution_count": 10
        }
      ]
    },
    {
      "cell_type": "code",
      "source": [
        "complete_dataset_dict['train'].features"
      ],
      "metadata": {
        "colab": {
          "base_uri": "https://localhost:8080/"
        },
        "id": "7LRWJkW2Pz_7",
        "outputId": "9382ae39-9dc4-4fc4-a15d-55b58fc7d932"
      },
      "execution_count": 11,
      "outputs": [
        {
          "output_type": "execute_result",
          "data": {
            "text/plain": [
              "{'labels': ClassLabel(names=['Negative', 'Positive'], id=None),\n",
              " 'input_ids': Sequence(feature=Value(dtype='int32', id=None), length=-1, id=None),\n",
              " 'token_type_ids': Sequence(feature=Value(dtype='int8', id=None), length=-1, id=None),\n",
              " 'attention_mask': Sequence(feature=Value(dtype='int8', id=None), length=-1, id=None)}"
            ]
          },
          "metadata": {},
          "execution_count": 11
        }
      ]
    },
    {
      "cell_type": "markdown",
      "source": [
        "## Start calling the pre-trained model"
      ],
      "metadata": {
        "id": "nL8j0TvKMEQr"
      }
    },
    {
      "cell_type": "code",
      "source": [
        "num_labels = 2\n",
        "model2 = AutoModelForSequenceClassification.from_pretrained(\"microsoft/MiniLM-L12-H384-uncased\", num_labels=num_labels)"
      ],
      "metadata": {
        "colab": {
          "base_uri": "https://localhost:8080/"
        },
        "id": "_TrQu9o4L_Pe",
        "outputId": "0e38f0b0-cfac-4ba9-dce3-27d7de016c9e"
      },
      "execution_count": 12,
      "outputs": [
        {
          "output_type": "stream",
          "name": "stderr",
          "text": [
            "Some weights of BertForSequenceClassification were not initialized from the model checkpoint at microsoft/MiniLM-L12-H384-uncased and are newly initialized: ['classifier.weight', 'classifier.bias']\n",
            "You should probably TRAIN this model on a down-stream task to be able to use it for predictions and inference.\n"
          ]
        }
      ]
    },
    {
      "cell_type": "code",
      "source": [
        "def compute_metrics(eval_preds):\n",
        "    acc_metric = evaluate.load(\"accuracy\")\n",
        "    logits, labels = eval_preds\n",
        "    predictions = np.argmax(logits, axis=-1)\n",
        "    return acc_metric.compute(predictions=predictions, references=labels)"
      ],
      "metadata": {
        "id": "2EbAoNj4UgLX"
      },
      "execution_count": 137,
      "outputs": []
    },
    {
      "cell_type": "code",
      "source": [
        "from sklearn.metrics import accuracy_score, recall_score, precision_score, f1_score\n",
        "def compute_metrics(p):\n",
        "    pred, labels = p\n",
        "    pred = np.argmax(pred, axis=-1)\n",
        "    accuracy = accuracy_score(y_true=labels, y_pred=pred)\n",
        "    recall = recall_score(y_true=labels, y_pred=pred)\n",
        "    precision = precision_score(y_true=labels, y_pred=pred)\n",
        "    f1 = f1_score(y_true=labels, y_pred=pred)\n",
        "    return {\"accuracy\": accuracy, \"f1\": f1}"
      ],
      "metadata": {
        "id": "n8hs0JmI3_U8"
      },
      "execution_count": 13,
      "outputs": []
    },
    {
      "cell_type": "code",
      "source": [
        "batch_size = 16\n",
        "output_dir = 'training_output'\n",
        "logging_steps = len(complete_dataset_dict['train']) // batch_size\n",
        "training_args = TrainingArguments(output_dir=output_dir,\n",
        "                                  num_train_epochs=8,\n",
        "                                  learning_rate=0.0001,\n",
        "                                  logging_steps=logging_steps,\n",
        "                                  evaluation_strategy='epoch',\n",
        "                                  disable_tqdm=False)"
      ],
      "metadata": {
        "id": "J9uLmWXpMrK4"
      },
      "execution_count": 15,
      "outputs": []
    },
    {
      "cell_type": "code",
      "source": [
        "trainer = Trainer(model = model2,\n",
        "                  args =training_args,\n",
        "                  train_dataset =complete_dataset_dict['train'],\n",
        "                  eval_dataset = complete_dataset_dict['eval'],\n",
        "                  tokenizer = tokenizer,\n",
        "                  compute_metrics= compute_metrics)\n",
        "trainer.train()"
      ],
      "metadata": {
        "id": "HKgL6h9PMz0x",
        "colab": {
          "base_uri": "https://localhost:8080/",
          "height": 422
        },
        "outputId": "9830dcfa-e8da-43c6-dd98-701e6dafc29b"
      },
      "execution_count": 16,
      "outputs": [
        {
          "output_type": "stream",
          "name": "stderr",
          "text": [
            "/usr/local/lib/python3.10/dist-packages/transformers/optimization.py:411: FutureWarning: This implementation of AdamW is deprecated and will be removed in a future version. Use the PyTorch implementation torch.optim.AdamW instead, or set `no_deprecation_warning=True` to disable this warning\n",
            "  warnings.warn(\n",
            "You're using a BertTokenizerFast tokenizer. Please note that with a fast tokenizer, using the `__call__` method is faster than using a method to encode the text followed by a call to the `pad` method to get a padded encoding.\n"
          ]
        },
        {
          "output_type": "display_data",
          "data": {
            "text/plain": [
              "<IPython.core.display.HTML object>"
            ],
            "text/html": [
              "\n",
              "    <div>\n",
              "      \n",
              "      <progress value='640' max='640' style='width:300px; height:20px; vertical-align: middle;'></progress>\n",
              "      [640/640 01:04, Epoch 8/8]\n",
              "    </div>\n",
              "    <table border=\"1\" class=\"dataframe\">\n",
              "  <thead>\n",
              " <tr style=\"text-align: left;\">\n",
              "      <th>Epoch</th>\n",
              "      <th>Training Loss</th>\n",
              "      <th>Validation Loss</th>\n",
              "      <th>Accuracy</th>\n",
              "      <th>F1</th>\n",
              "    </tr>\n",
              "  </thead>\n",
              "  <tbody>\n",
              "    <tr>\n",
              "      <td>1</td>\n",
              "      <td>0.497800</td>\n",
              "      <td>0.515094</td>\n",
              "      <td>0.787500</td>\n",
              "      <td>0.779221</td>\n",
              "    </tr>\n",
              "    <tr>\n",
              "      <td>2</td>\n",
              "      <td>0.513200</td>\n",
              "      <td>0.398399</td>\n",
              "      <td>0.862500</td>\n",
              "      <td>0.864198</td>\n",
              "    </tr>\n",
              "    <tr>\n",
              "      <td>3</td>\n",
              "      <td>0.336600</td>\n",
              "      <td>0.325411</td>\n",
              "      <td>0.900000</td>\n",
              "      <td>0.900000</td>\n",
              "    </tr>\n",
              "    <tr>\n",
              "      <td>4</td>\n",
              "      <td>0.268200</td>\n",
              "      <td>0.431132</td>\n",
              "      <td>0.862500</td>\n",
              "      <td>0.857143</td>\n",
              "    </tr>\n",
              "    <tr>\n",
              "      <td>5</td>\n",
              "      <td>0.278700</td>\n",
              "      <td>0.376865</td>\n",
              "      <td>0.875000</td>\n",
              "      <td>0.868421</td>\n",
              "    </tr>\n",
              "    <tr>\n",
              "      <td>6</td>\n",
              "      <td>0.219000</td>\n",
              "      <td>0.318618</td>\n",
              "      <td>0.900000</td>\n",
              "      <td>0.900000</td>\n",
              "    </tr>\n",
              "    <tr>\n",
              "      <td>7</td>\n",
              "      <td>0.196000</td>\n",
              "      <td>0.291752</td>\n",
              "      <td>0.925000</td>\n",
              "      <td>0.925000</td>\n",
              "    </tr>\n",
              "    <tr>\n",
              "      <td>8</td>\n",
              "      <td>0.167000</td>\n",
              "      <td>0.246987</td>\n",
              "      <td>0.937500</td>\n",
              "      <td>0.936709</td>\n",
              "    </tr>\n",
              "  </tbody>\n",
              "</table><p>"
            ]
          },
          "metadata": {}
        },
        {
          "output_type": "execute_result",
          "data": {
            "text/plain": [
              "TrainOutput(global_step=640, training_loss=0.32126558795571325, metrics={'train_runtime': 65.6908, 'train_samples_per_second': 77.941, 'train_steps_per_second': 9.743, 'total_flos': 42158547271680.0, 'train_loss': 0.32126558795571325, 'epoch': 8.0})"
            ]
          },
          "metadata": {},
          "execution_count": 16
        }
      ]
    },
    {
      "cell_type": "code",
      "source": [
        "eval_prediction = trainer.predict(complete_dataset_dict['test'])[1]\n",
        "eval_prediction"
      ],
      "metadata": {
        "colab": {
          "base_uri": "https://localhost:8080/",
          "height": 104
        },
        "id": "wCwx99jw9SAr",
        "outputId": "b1c3e765-5c8e-4b9c-b500-7046b15ee501"
      },
      "execution_count": 39,
      "outputs": [
        {
          "output_type": "display_data",
          "data": {
            "text/plain": [
              "<IPython.core.display.HTML object>"
            ],
            "text/html": []
          },
          "metadata": {}
        },
        {
          "output_type": "execute_result",
          "data": {
            "text/plain": [
              "array([0, 1, 1, 1, 1, 0, 1, 0, 0, 0, 0, 0, 1, 1, 1, 1, 1, 1, 1, 1, 0, 0,\n",
              "       0, 0, 0, 1, 0, 1, 1, 1, 1, 0, 1, 1, 0, 0, 1, 1, 0, 1, 1, 1, 0, 0,\n",
              "       0, 1, 1, 1, 0, 0, 0, 1, 1, 0, 0, 1, 0, 1, 1, 0, 0, 0, 0, 1, 1, 1,\n",
              "       0, 1, 0, 0, 1, 0, 0, 1, 1, 0, 0, 0, 0, 0])"
            ]
          },
          "metadata": {},
          "execution_count": 39
        }
      ]
    },
    {
      "cell_type": "code",
      "source": [
        "np.array(complete_dataset_dict['test'].to_pandas().labels)"
      ],
      "metadata": {
        "colab": {
          "base_uri": "https://localhost:8080/"
        },
        "id": "8pH9PxTt9gW2",
        "outputId": "8a63f5f2-f818-448e-83e4-81d8b16e28a9"
      },
      "execution_count": 40,
      "outputs": [
        {
          "output_type": "execute_result",
          "data": {
            "text/plain": [
              "array([0, 1, 1, 1, 1, 0, 1, 0, 0, 0, 0, 0, 1, 1, 1, 1, 1, 1, 1, 1, 0, 0,\n",
              "       0, 0, 0, 1, 0, 1, 1, 1, 1, 0, 1, 1, 0, 0, 1, 1, 0, 1, 1, 1, 0, 0,\n",
              "       0, 1, 1, 1, 0, 0, 0, 1, 1, 0, 0, 1, 0, 1, 1, 0, 0, 0, 0, 1, 1, 1,\n",
              "       0, 1, 0, 0, 1, 0, 0, 1, 1, 0, 0, 0, 0, 0])"
            ]
          },
          "metadata": {},
          "execution_count": 40
        }
      ]
    },
    {
      "cell_type": "code",
      "source": [
        "from sklearn.metrics import confusion_matrix, classification_report"
      ],
      "metadata": {
        "id": "HoGeTjbC9zvH"
      },
      "execution_count": 34,
      "outputs": []
    },
    {
      "cell_type": "code",
      "source": [
        "print(classification_report(eval_prediction,\n",
        "                            np.array(complete_dataset_dict['test'].to_pandas().labels) ))"
      ],
      "metadata": {
        "colab": {
          "base_uri": "https://localhost:8080/"
        },
        "id": "-uaEcj5t95UY",
        "outputId": "41877abb-77e6-4a73-c5e0-c6878088357b"
      },
      "execution_count": 41,
      "outputs": [
        {
          "output_type": "stream",
          "name": "stdout",
          "text": [
            "              precision    recall  f1-score   support\n",
            "\n",
            "           0       1.00      1.00      1.00        40\n",
            "           1       1.00      1.00      1.00        40\n",
            "\n",
            "    accuracy                           1.00        80\n",
            "   macro avg       1.00      1.00      1.00        80\n",
            "weighted avg       1.00      1.00      1.00        80\n",
            "\n"
          ]
        }
      ]
    },
    {
      "cell_type": "markdown",
      "source": [],
      "metadata": {
        "id": "vcJLBseCMHEk"
      }
    },
    {
      "cell_type": "code",
      "source": [
        "import evaluate"
      ],
      "metadata": {
        "id": "KT8RzCl4TQHk"
      },
      "execution_count": 69,
      "outputs": []
    },
    {
      "cell_type": "code",
      "source": [
        "accuracy_metric = evaluate.load('accuracy')\n",
        "accuracy_metric = evaluate.load('accuracy')"
      ],
      "metadata": {
        "id": "eBSXJjTFTGHI"
      },
      "execution_count": 70,
      "outputs": []
    },
    {
      "cell_type": "code",
      "source": [
        "trainer.train()"
      ],
      "metadata": {
        "colab": {
          "base_uri": "https://localhost:8080/",
          "height": 406
        },
        "id": "dmL3SGtFx0Nm",
        "outputId": "008054ac-8ca0-496b-e2bf-b6cc89ac96b7"
      },
      "execution_count": 144,
      "outputs": [
        {
          "output_type": "stream",
          "name": "stderr",
          "text": [
            "/usr/local/lib/python3.10/dist-packages/transformers/optimization.py:411: FutureWarning: This implementation of AdamW is deprecated and will be removed in a future version. Use the PyTorch implementation torch.optim.AdamW instead, or set `no_deprecation_warning=True` to disable this warning\n",
            "  warnings.warn(\n"
          ]
        },
        {
          "output_type": "display_data",
          "data": {
            "text/plain": [
              "<IPython.core.display.HTML object>"
            ],
            "text/html": [
              "\n",
              "    <div>\n",
              "      \n",
              "      <progress value='640' max='640' style='width:300px; height:20px; vertical-align: middle;'></progress>\n",
              "      [640/640 00:46, Epoch 8/8]\n",
              "    </div>\n",
              "    <table border=\"1\" class=\"dataframe\">\n",
              "  <thead>\n",
              " <tr style=\"text-align: left;\">\n",
              "      <th>Epoch</th>\n",
              "      <th>Training Loss</th>\n",
              "      <th>Validation Loss</th>\n",
              "      <th>Accuracy</th>\n",
              "    </tr>\n",
              "  </thead>\n",
              "  <tbody>\n",
              "    <tr>\n",
              "      <td>1</td>\n",
              "      <td>0.691000</td>\n",
              "      <td>0.744997</td>\n",
              "      <td>0.500000</td>\n",
              "    </tr>\n",
              "    <tr>\n",
              "      <td>2</td>\n",
              "      <td>0.702100</td>\n",
              "      <td>0.693148</td>\n",
              "      <td>0.500000</td>\n",
              "    </tr>\n",
              "    <tr>\n",
              "      <td>3</td>\n",
              "      <td>0.694700</td>\n",
              "      <td>0.697766</td>\n",
              "      <td>0.500000</td>\n",
              "    </tr>\n",
              "    <tr>\n",
              "      <td>4</td>\n",
              "      <td>0.699000</td>\n",
              "      <td>0.707279</td>\n",
              "      <td>0.500000</td>\n",
              "    </tr>\n",
              "    <tr>\n",
              "      <td>5</td>\n",
              "      <td>0.697700</td>\n",
              "      <td>0.694788</td>\n",
              "      <td>0.500000</td>\n",
              "    </tr>\n",
              "    <tr>\n",
              "      <td>6</td>\n",
              "      <td>0.694100</td>\n",
              "      <td>0.693809</td>\n",
              "      <td>0.500000</td>\n",
              "    </tr>\n",
              "    <tr>\n",
              "      <td>7</td>\n",
              "      <td>0.696300</td>\n",
              "      <td>0.693219</td>\n",
              "      <td>0.500000</td>\n",
              "    </tr>\n",
              "    <tr>\n",
              "      <td>8</td>\n",
              "      <td>0.693300</td>\n",
              "      <td>0.693147</td>\n",
              "      <td>0.500000</td>\n",
              "    </tr>\n",
              "  </tbody>\n",
              "</table><p>"
            ]
          },
          "metadata": {}
        },
        {
          "output_type": "execute_result",
          "data": {
            "text/plain": [
              "TrainOutput(global_step=640, training_loss=0.7002702862024307, metrics={'train_runtime': 46.5491, 'train_samples_per_second': 109.991, 'train_steps_per_second': 13.749, 'total_flos': 42158547271680.0, 'train_loss': 0.7002702862024307, 'epoch': 8.0})"
            ]
          },
          "metadata": {},
          "execution_count": 144
        }
      ]
    },
    {
      "cell_type": "code",
      "source": [
        "model.device"
      ],
      "metadata": {
        "colab": {
          "base_uri": "https://localhost:8080/"
        },
        "id": "YkEMccY-aMne",
        "outputId": "4dfb29bb-4c96-4bfc-f1b4-e9fd6df2b7b9"
      },
      "execution_count": null,
      "outputs": [
        {
          "output_type": "execute_result",
          "data": {
            "text/plain": [
              "device(type='cuda', index=0)"
            ]
          },
          "metadata": {},
          "execution_count": 102
        }
      ]
    },
    {
      "cell_type": "code",
      "source": [
        "# Set the model to evaluation mode\n",
        "model.eval()\n",
        "\n",
        "example_sentence = \"I hate working here\"\n",
        "# Preprocess the input text\n",
        "inputs = tokenizer(example_sentence,  max_length = 64,\n",
        "                     truncation = True,\n",
        "                     padding = \"max_length\", return_tensors=\"pt\").to('cuda') #has to specify to('cuda') to avoid the error# Get the predicted label\n",
        "\n",
        "# Perform prediction\n",
        "with torch.no_grad():\n",
        "    outputs = model(**inputs)"
      ],
      "metadata": {
        "id": "NGfbqciFV_nA"
      },
      "execution_count": 76,
      "outputs": []
    },
    {
      "cell_type": "code",
      "source": [
        "outputs"
      ],
      "metadata": {
        "colab": {
          "base_uri": "https://localhost:8080/"
        },
        "id": "cNyS6oAeZ6Ib",
        "outputId": "60958848-71d8-4b94-8425-83c3c0e6b064"
      },
      "execution_count": 77,
      "outputs": [
        {
          "output_type": "execute_result",
          "data": {
            "text/plain": [
              "SequenceClassifierOutput(loss=None, logits=tensor([[-1.4029,  1.3609]], device='cuda:0'), hidden_states=None, attentions=None)"
            ]
          },
          "metadata": {},
          "execution_count": 77
        }
      ]
    },
    {
      "cell_type": "code",
      "source": [
        "# Get the predicted label\n",
        "predicted_label = torch.argmax(outputs.logits).item()"
      ],
      "metadata": {
        "id": "9OZ8UY12aTie"
      },
      "execution_count": 78,
      "outputs": []
    },
    {
      "cell_type": "code",
      "source": [
        "predicted_label"
      ],
      "metadata": {
        "id": "2Pjt-iRyaeq1",
        "colab": {
          "base_uri": "https://localhost:8080/"
        },
        "outputId": "09f742a2-51b6-4f5a-ce0d-47832402a5c4"
      },
      "execution_count": 79,
      "outputs": [
        {
          "output_type": "execute_result",
          "data": {
            "text/plain": [
              "1"
            ]
          },
          "metadata": {},
          "execution_count": 79
        }
      ]
    },
    {
      "cell_type": "code",
      "source": [
        "trainer.train_dataset[0]"
      ],
      "metadata": {
        "colab": {
          "base_uri": "https://localhost:8080/"
        },
        "id": "xdk9tW8rytNu",
        "outputId": "cb4d9df5-e8a2-4847-a4b2-d09adb170783"
      },
      "execution_count": 145,
      "outputs": [
        {
          "output_type": "execute_result",
          "data": {
            "text/plain": [
              "{'labels': 0,\n",
              " 'input_ids': [101,\n",
              "  6792,\n",
              "  1010,\n",
              "  2111,\n",
              "  1999,\n",
              "  1996,\n",
              "  2533,\n",
              "  2024,\n",
              "  2145,\n",
              "  2200,\n",
              "  14337,\n",
              "  1012,\n",
              "  102,\n",
              "  0,\n",
              "  0,\n",
              "  0,\n",
              "  0,\n",
              "  0,\n",
              "  0,\n",
              "  0,\n",
              "  0,\n",
              "  0,\n",
              "  0,\n",
              "  0,\n",
              "  0,\n",
              "  0,\n",
              "  0,\n",
              "  0,\n",
              "  0,\n",
              "  0,\n",
              "  0,\n",
              "  0,\n",
              "  0,\n",
              "  0,\n",
              "  0,\n",
              "  0,\n",
              "  0,\n",
              "  0,\n",
              "  0,\n",
              "  0,\n",
              "  0,\n",
              "  0,\n",
              "  0,\n",
              "  0,\n",
              "  0,\n",
              "  0,\n",
              "  0,\n",
              "  0,\n",
              "  0,\n",
              "  0,\n",
              "  0,\n",
              "  0,\n",
              "  0,\n",
              "  0,\n",
              "  0,\n",
              "  0,\n",
              "  0,\n",
              "  0,\n",
              "  0,\n",
              "  0,\n",
              "  0,\n",
              "  0,\n",
              "  0,\n",
              "  0],\n",
              " 'token_type_ids': [0,\n",
              "  0,\n",
              "  0,\n",
              "  0,\n",
              "  0,\n",
              "  0,\n",
              "  0,\n",
              "  0,\n",
              "  0,\n",
              "  0,\n",
              "  0,\n",
              "  0,\n",
              "  0,\n",
              "  0,\n",
              "  0,\n",
              "  0,\n",
              "  0,\n",
              "  0,\n",
              "  0,\n",
              "  0,\n",
              "  0,\n",
              "  0,\n",
              "  0,\n",
              "  0,\n",
              "  0,\n",
              "  0,\n",
              "  0,\n",
              "  0,\n",
              "  0,\n",
              "  0,\n",
              "  0,\n",
              "  0,\n",
              "  0,\n",
              "  0,\n",
              "  0,\n",
              "  0,\n",
              "  0,\n",
              "  0,\n",
              "  0,\n",
              "  0,\n",
              "  0,\n",
              "  0,\n",
              "  0,\n",
              "  0,\n",
              "  0,\n",
              "  0,\n",
              "  0,\n",
              "  0,\n",
              "  0,\n",
              "  0,\n",
              "  0,\n",
              "  0,\n",
              "  0,\n",
              "  0,\n",
              "  0,\n",
              "  0,\n",
              "  0,\n",
              "  0,\n",
              "  0,\n",
              "  0,\n",
              "  0,\n",
              "  0,\n",
              "  0,\n",
              "  0],\n",
              " 'attention_mask': [1,\n",
              "  1,\n",
              "  1,\n",
              "  1,\n",
              "  1,\n",
              "  1,\n",
              "  1,\n",
              "  1,\n",
              "  1,\n",
              "  1,\n",
              "  1,\n",
              "  1,\n",
              "  1,\n",
              "  0,\n",
              "  0,\n",
              "  0,\n",
              "  0,\n",
              "  0,\n",
              "  0,\n",
              "  0,\n",
              "  0,\n",
              "  0,\n",
              "  0,\n",
              "  0,\n",
              "  0,\n",
              "  0,\n",
              "  0,\n",
              "  0,\n",
              "  0,\n",
              "  0,\n",
              "  0,\n",
              "  0,\n",
              "  0,\n",
              "  0,\n",
              "  0,\n",
              "  0,\n",
              "  0,\n",
              "  0,\n",
              "  0,\n",
              "  0,\n",
              "  0,\n",
              "  0,\n",
              "  0,\n",
              "  0,\n",
              "  0,\n",
              "  0,\n",
              "  0,\n",
              "  0,\n",
              "  0,\n",
              "  0,\n",
              "  0,\n",
              "  0,\n",
              "  0,\n",
              "  0,\n",
              "  0,\n",
              "  0,\n",
              "  0,\n",
              "  0,\n",
              "  0,\n",
              "  0,\n",
              "  0,\n",
              "  0,\n",
              "  0,\n",
              "  0]}"
            ]
          },
          "metadata": {},
          "execution_count": 145
        }
      ]
    },
    {
      "cell_type": "code",
      "source": [],
      "metadata": {
        "id": "VL8Vx4o97cJv"
      },
      "execution_count": null,
      "outputs": []
    }
  ]
}